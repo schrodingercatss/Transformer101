{
 "cells": [
  {
   "cell_type": "code",
   "execution_count": 2,
   "metadata": {},
   "outputs": [],
   "source": [
    "import torch\n",
    "import torch.nn as nn\n",
    "import math"
   ]
  },
  {
   "cell_type": "code",
   "execution_count": 3,
   "metadata": {},
   "outputs": [],
   "source": [
    "hidden_states = torch.randn(2, 3, 4)\n",
    "q_proj = nn.Linear(4, 4, bias=False)\n",
    "k_proj = nn.Linear(4, 4, bias=False)\n",
    "v_proj = nn.Linear(4, 4, bias=False)\n",
    "o_proj = nn.Linear(4, 4, bias=False)\n"
   ]
  },
  {
   "cell_type": "code",
   "execution_count": 4,
   "metadata": {},
   "outputs": [
    {
     "data": {
      "text/plain": [
       "(torch.Size([2, 3, 4]), torch.Size([2, 3, 4]), torch.Size([2, 3, 4]))"
      ]
     },
     "execution_count": 4,
     "metadata": {},
     "output_type": "execute_result"
    }
   ],
   "source": [
    "q = q_proj(hidden_states)\n",
    "k = k_proj(hidden_states)\n",
    "v = v_proj(hidden_states)\n",
    "\n",
    "q.shape, k.shape, v.shape"
   ]
  },
  {
   "cell_type": "code",
   "execution_count": 6,
   "metadata": {},
   "outputs": [
    {
     "data": {
      "text/plain": [
       "tensor([[1., 1., 1.],\n",
       "        [1., 1., 0.]])"
      ]
     },
     "execution_count": 6,
     "metadata": {},
     "output_type": "execute_result"
    }
   ],
   "source": [
    "mask = torch.ones(2, 3)\n",
    "mask[1][2] = 0\n",
    "mask"
   ]
  },
  {
   "cell_type": "code",
   "execution_count": 18,
   "metadata": {},
   "outputs": [
    {
     "data": {
      "text/plain": [
       "tensor([[[1., 0., 0.],\n",
       "         [1., 1., 0.],\n",
       "         [1., 1., 1.]],\n",
       "\n",
       "        [[1., 0., 0.],\n",
       "         [1., 1., 0.],\n",
       "         [1., 1., 1.]]])"
      ]
     },
     "execution_count": 18,
     "metadata": {},
     "output_type": "execute_result"
    }
   ],
   "source": [
    "P = q @ (k.transpose(-2, -1)) / math.sqrt(4)\n",
    "causal_mask = torch.tril(torch.ones(2, 3, 3))\n",
    "causal_mask"
   ]
  },
  {
   "cell_type": "code",
   "execution_count": 19,
   "metadata": {},
   "outputs": [
    {
     "data": {
      "text/plain": [
       "tensor([[[ 2.0278e-01, -1.0000e+09, -1.0000e+09],\n",
       "         [-6.7292e-02,  2.2792e-01, -1.0000e+09],\n",
       "         [ 1.0554e-01, -3.6337e-01, -2.5134e-01]],\n",
       "\n",
       "        [[ 2.8567e-02, -1.0000e+09, -1.0000e+09],\n",
       "         [ 3.8103e-02,  2.2329e-01, -1.0000e+09],\n",
       "         [ 2.6402e-02,  5.7007e-02,  5.0832e-02]]], grad_fn=<AddBackward0>)"
      ]
     },
     "execution_count": 19,
     "metadata": {},
     "output_type": "execute_result"
    }
   ],
   "source": [
    "P = P + (1 - causal_mask) * -1e9\n",
    "P"
   ]
  },
  {
   "cell_type": "code",
   "execution_count": 20,
   "metadata": {},
   "outputs": [
    {
     "data": {
      "text/plain": [
       "tensor([[[1.0000, 0.0000, 0.0000],\n",
       "         [0.4267, 0.5733, 0.0000],\n",
       "         [0.4300, 0.2690, 0.3009]],\n",
       "\n",
       "        [[1.0000, 0.0000, 0.0000],\n",
       "         [0.4538, 0.5462, 0.0000],\n",
       "         [0.3272, 0.3374, 0.3353]]], grad_fn=<SoftmaxBackward0>)"
      ]
     },
     "execution_count": 20,
     "metadata": {},
     "output_type": "execute_result"
    }
   ],
   "source": [
    "A = torch.softmax(P, dim=-1)\n",
    "A"
   ]
  },
  {
   "cell_type": "code",
   "execution_count": 22,
   "metadata": {},
   "outputs": [
    {
     "data": {
      "text/plain": [
       "tensor([[[-0.6265,  0.8823,  0.3128,  0.2613],\n",
       "         [-0.4459,  0.1374,  0.3487, -0.2749],\n",
       "         [-0.2798,  0.4121,  0.3666, -0.0914]],\n",
       "\n",
       "        [[-0.5247,  0.2238,  0.1720, -0.0454],\n",
       "         [-0.3772,  0.1483,  0.0423,  0.0421],\n",
       "         [-0.2919,  0.2075,  0.0152,  0.1126]]], grad_fn=<UnsafeViewBackward0>)"
      ]
     },
     "execution_count": 22,
     "metadata": {},
     "output_type": "execute_result"
    }
   ],
   "source": [
    "O = A @ v\n",
    "O"
   ]
  },
  {
   "cell_type": "code",
   "execution_count": 38,
   "metadata": {},
   "outputs": [],
   "source": [
    "num_heads = 4\n",
    "hidden_states = torch.randn(2, 3, 4 * num_heads).view(2, 3, num_heads, 4)\n",
    "q_proj = nn.Linear(4, 4, bias=False)\n",
    "k_proj = nn.Linear(4, 4, bias=False)\n",
    "v_proj = nn.Linear(4, 4, bias=False)\n",
    "o_proj = nn.Linear(4 * num_heads, 4 * num_heads, bias=False)"
   ]
  },
  {
   "cell_type": "code",
   "execution_count": 39,
   "metadata": {},
   "outputs": [
    {
     "data": {
      "text/plain": [
       "(torch.Size([2, 4, 3, 4]), torch.Size([2, 4, 3, 4]), torch.Size([2, 4, 3, 4]))"
      ]
     },
     "execution_count": 39,
     "metadata": {},
     "output_type": "execute_result"
    }
   ],
   "source": [
    "q = q_proj(hidden_states.transpose(1, 2)) # shape: (2, 4, 3, 4)\n",
    "k = k_proj(hidden_states.transpose(1, 2)) # shape: (2, 4, 3, 4)\n",
    "v = v_proj(hidden_states.transpose(1, 2)) # shape: (2, 4, 3, 4)\n",
    "q.shape, k.shape, v.shape"
   ]
  },
  {
   "cell_type": "code",
   "execution_count": 40,
   "metadata": {},
   "outputs": [
    {
     "data": {
      "text/plain": [
       "torch.Size([2, 4, 3, 4])"
      ]
     },
     "execution_count": 40,
     "metadata": {},
     "output_type": "execute_result"
    }
   ],
   "source": [
    "P = q @ (k.transpose(-2, -1)) / math.sqrt(4)\n",
    "causal_mask = torch.tril(torch.ones(2, 4, 3, 3))\n",
    "P = P + (1 - causal_mask) * -1e9\n",
    "A = torch.softmax(P, dim=-1)\n",
    "O = A @ v\n",
    "O.shape"
   ]
  },
  {
   "cell_type": "code",
   "execution_count": 41,
   "metadata": {},
   "outputs": [
    {
     "data": {
      "text/plain": [
       "torch.Size([2, 3, 16])"
      ]
     },
     "execution_count": 41,
     "metadata": {},
     "output_type": "execute_result"
    }
   ],
   "source": [
    "O_merged = O.transpose(1, 2).reshape(2, 3, -1)\n",
    "final_output = o_proj(O_merged)\n",
    "final_output.shape"
   ]
  },
  {
   "cell_type": "code",
   "execution_count": null,
   "metadata": {},
   "outputs": [],
   "source": [
    "import torch\n",
    "import torch.nn as nn\n",
    "import torch.nn.functional as F\n",
    "\n",
    "\n",
    "class MultiHeadAttention(nn.Module):\n",
    "    def __init__(self, input_dim, num_heads, embed_dim):\n",
    "        self.__init__()\n",
    "        self.num_heads = num_heads\n",
    "        self.embed_dim = embed_dim\n",
    "        self.q_proj = nn.Linear(input_dim, embed_dim, bias=False)\n",
    "        self.k_proj = nn.Linear(input_dim, embed_dim, bias=False)\n",
    "        self.v_proj = nn.Linear(input_dim, embed_dim, bias=False)\n",
    "        self.o_proj = nn.Linear(embed_dim * num_heads, input_dim, bias=False)\n",
    "    \n",
    "    def forward(self, x):\n",
    "        seq_len = x.shape[1]\n",
    "        q = self.q_proj(x).view(-1, seq_len, self.num_heads, self.embed_dim)\n",
    "        k = self.k_proj(x).view(-1, seq_len, self.num_heads, self.embed_dim)\n",
    "        v = self.v_proj(x).view(-1, seq_len, self.num_heads, self.embed_dim)\n",
    "        "
   ]
  }
 ],
 "metadata": {
  "kernelspec": {
   "display_name": "Python 3",
   "language": "python",
   "name": "python3"
  },
  "language_info": {
   "codemirror_mode": {
    "name": "ipython",
    "version": 3
   },
   "file_extension": ".py",
   "mimetype": "text/x-python",
   "name": "python",
   "nbconvert_exporter": "python",
   "pygments_lexer": "ipython3",
   "version": "3.10.15"
  }
 },
 "nbformat": 4,
 "nbformat_minor": 2
}
